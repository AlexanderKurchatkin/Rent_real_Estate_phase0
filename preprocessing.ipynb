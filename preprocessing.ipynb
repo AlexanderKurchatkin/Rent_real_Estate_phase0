{
 "cells": [
  {
   "cell_type": "code",
   "execution_count": 133,
   "metadata": {},
   "outputs": [],
   "source": [
    "import pandas as pd\n",
    "import numpy as np\n",
    "import matplotlib as mpl\n",
    "import matplotlib.pyplot as plt\n",
    "import seaborn as sns\n",
    "import nbconvert\n",
    "import plotly.express as px"
   ]
  },
  {
   "cell_type": "code",
   "execution_count": 134,
   "metadata": {},
   "outputs": [],
   "source": [
    "estate = pd.read_csv('_data.csv')\n",
    "# estate.columns\n"
   ]
  },
  {
   "cell_type": "code",
   "execution_count": 135,
   "metadata": {},
   "outputs": [
    {
     "name": "stdout",
     "output_type": "stream",
     "text": [
      "<class 'pandas.core.frame.DataFrame'>\n",
      "RangeIndex: 23368 entries, 0 to 23367\n",
      "Data columns (total 25 columns):\n",
      " #   Column                    Non-Null Count  Dtype  \n",
      "---  ------                    --------------  -----  \n",
      " 0   Unnamed: 0                23368 non-null  int64  \n",
      " 1   ID  объявления            23368 non-null  int64  \n",
      " 2   Количество комнат         22327 non-null  object \n",
      " 3   Тип                       23368 non-null  object \n",
      " 4   Метро                     22053 non-null  object \n",
      " 5   Адрес                     23368 non-null  object \n",
      " 6   Площадь, м2               23368 non-null  object \n",
      " 7   Дом                       23368 non-null  object \n",
      " 8   Парковка                  9951 non-null   object \n",
      " 9   Цена                      23368 non-null  object \n",
      " 10  Телефоны                  23368 non-null  object \n",
      " 11  Описание                  23368 non-null  object \n",
      " 12  Ремонт                    20613 non-null  object \n",
      " 13  Площадь комнат, м2        14458 non-null  object \n",
      " 14  Балкон                    15390 non-null  object \n",
      " 15  Окна                      16755 non-null  object \n",
      " 16  Санузел                   20696 non-null  object \n",
      " 17  Можно с детьми/животными  17272 non-null  object \n",
      " 18  Дополнительно             23011 non-null  object \n",
      " 19  Название ЖК               5848 non-null   object \n",
      " 20  Серия дома                2163 non-null   object \n",
      " 21  Высота потолков, м        11206 non-null  float64\n",
      " 22  Лифт                      17868 non-null  object \n",
      " 23  Мусоропровод              12846 non-null  object \n",
      " 24  Ссылка на объявление      23368 non-null  object \n",
      "dtypes: float64(1), int64(2), object(22)\n",
      "memory usage: 4.5+ MB\n"
     ]
    }
   ],
   "source": [
    "# Информация о структуре датасета\n",
    "estate.info()"
   ]
  },
  {
   "cell_type": "code",
   "execution_count": 136,
   "metadata": {},
   "outputs": [],
   "source": [
    "# Основные статистические характеристики\n",
    "df=estate.describe(include='all')\n",
    "df=df.head(1)\n",
    "#оставляем"
   ]
  },
  {
   "cell_type": "code",
   "execution_count": 137,
   "metadata": {},
   "outputs": [],
   "source": [
    "estate=estate[estate[\"Адрес\"]. str.contains (\"Москва\")]\n"
   ]
  },
  {
   "attachments": {},
   "cell_type": "markdown",
   "metadata": {},
   "source": [
    "Проверяем на пропущенные значения в каждой колонке, т.к. наполненность столбцов повлияет на возможность их использования.\n",
    "Строк, полностью состоящих из Nan не найдено."
   ]
  },
  {
   "cell_type": "code",
   "execution_count": 138,
   "metadata": {},
   "outputs": [],
   "source": [
    "#замена всех нанов на 'значения отсутствуют', чтобы получить отображение на графике\n",
    "# estate=estate.fillna('значения отсутствуют')\n"
   ]
  },
  {
   "cell_type": "code",
   "execution_count": 139,
   "metadata": {},
   "outputs": [],
   "source": [
    "estate=estate[['Unnamed: 0', 'ID  объявления', 'Количество комнат', 'Метро','Адрес',\n",
    "       'Площадь, м2', 'Дом', 'Парковка', 'Цена', \n",
    "       'Описание', 'Ремонт', 'Площадь комнат, м2', 'Балкон', 'Окна', 'Санузел',\n",
    "       'Можно с детьми/животными', 'Дополнительно', 'Название ЖК',\n",
    "       'Высота потолков, м', 'Лифт', 'Мусоропровод']]\n",
    "estate.head()\n",
    "df=estate.head(3)"
   ]
  },
  {
   "attachments": {},
   "cell_type": "markdown",
   "metadata": {},
   "source": [
    "Некоторыми столбцами можно пренебречь, поэтому далее их не рассматриваем. Так, например, в колонке \"Тип\" перечислены только квартиры, а название ЖК почти нигде не заполнено - такие столбцы пользы не принесут."
   ]
  },
  {
   "cell_type": "code",
   "execution_count": 140,
   "metadata": {},
   "outputs": [],
   "source": [
    "#сюда добавить индексацию с удалением unknown"
   ]
  },
  {
   "attachments": {},
   "cell_type": "markdown",
   "metadata": {},
   "source": [
    "Далее мы изучили столбец с количеством комнат."
   ]
  },
  {
   "attachments": {},
   "cell_type": "markdown",
   "metadata": {},
   "source": [
    "Глядя на график, мы понимаем, что в столбце кол-во комнат можем использовать дополнительное разделение"
   ]
  },
  {
   "cell_type": "code",
   "execution_count": 141,
   "metadata": {},
   "outputs": [],
   "source": [
    "\n",
    "\n",
    "estate[['Количество комнат (число)', 'Описание комнат']] = estate['Количество комнат'].str.split(',', n=1, expand=True).apply(lambda x: x.str.strip())\n",
    "# estate.head()"
   ]
  },
  {
   "attachments": {},
   "cell_type": "markdown",
   "metadata": {},
   "source": [
    "Изучим данные по парковке"
   ]
  },
  {
   "attachments": {},
   "cell_type": "markdown",
   "metadata": {},
   "source": [
    "Большая часть строк в столбце без данных, но поскольку парковка при аренде большое преимущество, данный столбец оставляем в работе."
   ]
  },
  {
   "attachments": {},
   "cell_type": "markdown",
   "metadata": {},
   "source": [
    "Далее мы изучили столбец с данными по дому и решили разбить его на составляющие - этаж, на котором расположена квартира, общее количество этажей в доме и тип дома."
   ]
  },
  {
   "cell_type": "code",
   "execution_count": 142,
   "metadata": {},
   "outputs": [
    {
     "data": {
      "text/html": [
       "<div>\n",
       "<style scoped>\n",
       "    .dataframe tbody tr th:only-of-type {\n",
       "        vertical-align: middle;\n",
       "    }\n",
       "\n",
       "    .dataframe tbody tr th {\n",
       "        vertical-align: top;\n",
       "    }\n",
       "\n",
       "    .dataframe thead th {\n",
       "        text-align: right;\n",
       "    }\n",
       "</style>\n",
       "<table border=\"1\" class=\"dataframe\">\n",
       "  <thead>\n",
       "    <tr style=\"text-align: right;\">\n",
       "      <th></th>\n",
       "      <th>Unnamed: 0</th>\n",
       "      <th>ID  объявления</th>\n",
       "      <th>Количество комнат</th>\n",
       "      <th>Метро</th>\n",
       "      <th>Адрес</th>\n",
       "      <th>Площадь, м2</th>\n",
       "      <th>Дом</th>\n",
       "      <th>Парковка</th>\n",
       "      <th>Цена</th>\n",
       "      <th>Описание</th>\n",
       "      <th>...</th>\n",
       "      <th>Дополнительно</th>\n",
       "      <th>Название ЖК</th>\n",
       "      <th>Высота потолков, м</th>\n",
       "      <th>Лифт</th>\n",
       "      <th>Мусоропровод</th>\n",
       "      <th>Количество комнат (число)</th>\n",
       "      <th>Описание комнат</th>\n",
       "      <th>этажность</th>\n",
       "      <th>тип дома</th>\n",
       "      <th>этаж</th>\n",
       "    </tr>\n",
       "  </thead>\n",
       "  <tbody>\n",
       "    <tr>\n",
       "      <th>0</th>\n",
       "      <td>0</td>\n",
       "      <td>271271157</td>\n",
       "      <td>4</td>\n",
       "      <td>м. Смоленская (9 мин пешком)</td>\n",
       "      <td>Москва, улица Новый Арбат, 27</td>\n",
       "      <td>200.0/20.0</td>\n",
       "      <td>5/16, Монолитный</td>\n",
       "      <td>подземная</td>\n",
       "      <td>500000.0 руб./ За месяц, Залог - 500000 руб., ...</td>\n",
       "      <td>Без комиссии для нанимателя! Бонус коллегам 12...</td>\n",
       "      <td>...</td>\n",
       "      <td>Мебель в комнатах, Мебель на кухне, Ванна, Душ...</td>\n",
       "      <td>Новый Арбат, 2010</td>\n",
       "      <td>3.0</td>\n",
       "      <td>Пасс (4), Груз (1)</td>\n",
       "      <td>Да</td>\n",
       "      <td>4</td>\n",
       "      <td>None</td>\n",
       "      <td>16</td>\n",
       "      <td>Монолитный</td>\n",
       "      <td>5</td>\n",
       "    </tr>\n",
       "    <tr>\n",
       "      <th>1</th>\n",
       "      <td>1</td>\n",
       "      <td>271634126</td>\n",
       "      <td>4</td>\n",
       "      <td>м. Смоленская (8 мин пешком)</td>\n",
       "      <td>Москва, улица Новый Арбат, 27</td>\n",
       "      <td>198.0/95.0/18.0</td>\n",
       "      <td>5/16, Монолитно-кирпичный</td>\n",
       "      <td>подземная</td>\n",
       "      <td>500000.0 руб./ За месяц, Залог - 500000 руб., ...</td>\n",
       "      <td>Лот 93107. Елена Анисимова.\\n\\nБонус агенту 50...</td>\n",
       "      <td>...</td>\n",
       "      <td>Мебель в комнатах, Мебель на кухне, Ванна, Душ...</td>\n",
       "      <td>Новый Арбат</td>\n",
       "      <td>3.5</td>\n",
       "      <td>Пасс (1), Груз (1)</td>\n",
       "      <td>Нет</td>\n",
       "      <td>4</td>\n",
       "      <td>None</td>\n",
       "      <td>16</td>\n",
       "      <td>Монолитно-кирпичный</td>\n",
       "      <td>5</td>\n",
       "    </tr>\n",
       "    <tr>\n",
       "      <th>2</th>\n",
       "      <td>2</td>\n",
       "      <td>271173086</td>\n",
       "      <td>4, Оба варианта</td>\n",
       "      <td>м. Смоленская (7 мин пешком)</td>\n",
       "      <td>Москва, улица Новый Арбат, 27</td>\n",
       "      <td>200.0/116.0/4.0</td>\n",
       "      <td>5/16</td>\n",
       "      <td>подземная</td>\n",
       "      <td>500000.0 руб./ За месяц, Залог - 500000 руб., ...</td>\n",
       "      <td>ID 36380:  Шикарная 4-х км. квартира в ЖК \"Нов...</td>\n",
       "      <td>...</td>\n",
       "      <td>Мебель в комнатах, Мебель на кухне, Ванна, Душ...</td>\n",
       "      <td>Новый Арбат</td>\n",
       "      <td>3.2</td>\n",
       "      <td>Пасс (1)</td>\n",
       "      <td>NaN</td>\n",
       "      <td>4</td>\n",
       "      <td>Оба варианта</td>\n",
       "      <td>16</td>\n",
       "      <td>None</td>\n",
       "      <td>5</td>\n",
       "    </tr>\n",
       "    <tr>\n",
       "      <th>3</th>\n",
       "      <td>3</td>\n",
       "      <td>272197456</td>\n",
       "      <td>4, Оба варианта</td>\n",
       "      <td>м. Смоленская (3 мин пешком)</td>\n",
       "      <td>Москва, переулок Плотников, 21С1</td>\n",
       "      <td>170.0/95.0/17.0</td>\n",
       "      <td>5/6</td>\n",
       "      <td>подземная</td>\n",
       "      <td>400000.0 руб./ За месяц, Залог - 400000 руб., ...</td>\n",
       "      <td>ID 31618:  Эксклюзивное предложение. Современн...</td>\n",
       "      <td>...</td>\n",
       "      <td>Мебель в комнатах, Мебель на кухне, Ванна, Душ...</td>\n",
       "      <td>NaN</td>\n",
       "      <td>3.2</td>\n",
       "      <td>Пасс (1)</td>\n",
       "      <td>NaN</td>\n",
       "      <td>4</td>\n",
       "      <td>Оба варианта</td>\n",
       "      <td>6</td>\n",
       "      <td>None</td>\n",
       "      <td>5</td>\n",
       "    </tr>\n",
       "    <tr>\n",
       "      <th>4</th>\n",
       "      <td>4</td>\n",
       "      <td>273614615</td>\n",
       "      <td>2</td>\n",
       "      <td>м. Арбатская (7 мин пешком)</td>\n",
       "      <td>Москва, улица Новый Арбат, 15</td>\n",
       "      <td>58.0/38.0/5.0</td>\n",
       "      <td>12/26, Панельный</td>\n",
       "      <td>NaN</td>\n",
       "      <td>225000.0 руб./ За месяц, Залог - 225000 руб., ...</td>\n",
       "      <td>Лот 111542. Татьяна Лучкина.\\n\\nБонус агенту 5...</td>\n",
       "      <td>...</td>\n",
       "      <td>Мебель в комнатах, Мебель на кухне, Ванна, Душ...</td>\n",
       "      <td>The Book</td>\n",
       "      <td>3.9</td>\n",
       "      <td>Пасс (1), Груз (1)</td>\n",
       "      <td>Да</td>\n",
       "      <td>2</td>\n",
       "      <td>None</td>\n",
       "      <td>26</td>\n",
       "      <td>Панельный</td>\n",
       "      <td>12</td>\n",
       "    </tr>\n",
       "  </tbody>\n",
       "</table>\n",
       "<p>5 rows × 26 columns</p>\n",
       "</div>"
      ],
      "text/plain": [
       "   Unnamed: 0  ID  объявления Количество комнат                         Метро  \\\n",
       "0           0       271271157                 4  м. Смоленская (9 мин пешком)   \n",
       "1           1       271634126                 4  м. Смоленская (8 мин пешком)   \n",
       "2           2       271173086   4, Оба варианта  м. Смоленская (7 мин пешком)   \n",
       "3           3       272197456   4, Оба варианта  м. Смоленская (3 мин пешком)   \n",
       "4           4       273614615                 2   м. Арбатская (7 мин пешком)   \n",
       "\n",
       "                              Адрес      Площадь, м2  \\\n",
       "0     Москва, улица Новый Арбат, 27       200.0/20.0   \n",
       "1     Москва, улица Новый Арбат, 27  198.0/95.0/18.0   \n",
       "2     Москва, улица Новый Арбат, 27  200.0/116.0/4.0   \n",
       "3  Москва, переулок Плотников, 21С1  170.0/95.0/17.0   \n",
       "4     Москва, улица Новый Арбат, 15    58.0/38.0/5.0   \n",
       "\n",
       "                         Дом   Парковка  \\\n",
       "0           5/16, Монолитный  подземная   \n",
       "1  5/16, Монолитно-кирпичный  подземная   \n",
       "2                       5/16  подземная   \n",
       "3                        5/6  подземная   \n",
       "4           12/26, Панельный        NaN   \n",
       "\n",
       "                                                Цена  \\\n",
       "0  500000.0 руб./ За месяц, Залог - 500000 руб., ...   \n",
       "1  500000.0 руб./ За месяц, Залог - 500000 руб., ...   \n",
       "2  500000.0 руб./ За месяц, Залог - 500000 руб., ...   \n",
       "3  400000.0 руб./ За месяц, Залог - 400000 руб., ...   \n",
       "4  225000.0 руб./ За месяц, Залог - 225000 руб., ...   \n",
       "\n",
       "                                            Описание  ...  \\\n",
       "0  Без комиссии для нанимателя! Бонус коллегам 12...  ...   \n",
       "1  Лот 93107. Елена Анисимова.\\n\\nБонус агенту 50...  ...   \n",
       "2  ID 36380:  Шикарная 4-х км. квартира в ЖК \"Нов...  ...   \n",
       "3  ID 31618:  Эксклюзивное предложение. Современн...  ...   \n",
       "4  Лот 111542. Татьяна Лучкина.\\n\\nБонус агенту 5...  ...   \n",
       "\n",
       "                                       Дополнительно        Название ЖК  \\\n",
       "0  Мебель в комнатах, Мебель на кухне, Ванна, Душ...  Новый Арбат, 2010   \n",
       "1  Мебель в комнатах, Мебель на кухне, Ванна, Душ...        Новый Арбат   \n",
       "2  Мебель в комнатах, Мебель на кухне, Ванна, Душ...        Новый Арбат   \n",
       "3  Мебель в комнатах, Мебель на кухне, Ванна, Душ...                NaN   \n",
       "4  Мебель в комнатах, Мебель на кухне, Ванна, Душ...           The Book   \n",
       "\n",
       "  Высота потолков, м                Лифт Мусоропровод  \\\n",
       "0                3.0  Пасс (4), Груз (1)           Да   \n",
       "1                3.5  Пасс (1), Груз (1)          Нет   \n",
       "2                3.2            Пасс (1)          NaN   \n",
       "3                3.2            Пасс (1)          NaN   \n",
       "4                3.9  Пасс (1), Груз (1)           Да   \n",
       "\n",
       "  Количество комнат (число) Описание комнат этажность              тип дома  \\\n",
       "0                         4            None        16            Монолитный   \n",
       "1                         4            None        16   Монолитно-кирпичный   \n",
       "2                         4    Оба варианта        16                  None   \n",
       "3                         4    Оба варианта         6                  None   \n",
       "4                         2            None        26             Панельный   \n",
       "\n",
       "  этаж  \n",
       "0    5  \n",
       "1    5  \n",
       "2    5  \n",
       "3    5  \n",
       "4   12  \n",
       "\n",
       "[5 rows x 26 columns]"
      ]
     },
     "execution_count": 142,
     "metadata": {},
     "output_type": "execute_result"
    }
   ],
   "source": [
    "\n",
    "estate[['этажность','тип дома']]=estate['Дом'].str.split(',', expand=True)\n",
    "estate['этаж']=estate['этажность'].str.split('/').str[0]\n",
    "estate['этажность']=estate['этажность'].str.split('/').str[-1]\n",
    "# estate=estate.fillna('значения отсутствуют')\n",
    "unique_values = estate['этаж'].unique()\n",
    "estate.head()\n"
   ]
  },
  {
   "attachments": {},
   "cell_type": "markdown",
   "metadata": {},
   "source": [
    "На графике видно, что хотя там внушительная доля нанов, она не больше половины, как мы думали первоначально"
   ]
  },
  {
   "cell_type": "code",
   "execution_count": 143,
   "metadata": {},
   "outputs": [
    {
     "name": "stderr",
     "output_type": "stream",
     "text": [
      "/tmp/ipykernel_8673/434621355.py:3: SettingWithCopyWarning: \n",
      "A value is trying to be set on a copy of a slice from a DataFrame.\n",
      "Try using .loc[row_indexer,col_indexer] = value instead\n",
      "\n",
      "See the caveats in the documentation: https://pandas.pydata.org/pandas-docs/stable/user_guide/indexing.html#returning-a-view-versus-a-copy\n",
      "  house2['Площадь, м2']=house2['Площадь, м2'].str.split('/').str[0]\n"
     ]
    }
   ],
   "source": [
    "house2=estate[['Unnamed: 0','Площадь, м2']]\n",
    "# house[['этажность','тип дома']]=house['Дом'].str.split(',', expand=True)\n",
    "house2['Площадь, м2']=house2['Площадь, м2'].str.split('/').str[0]\n",
    "# house['Площадь, м2'].plot(kind='bar')\n",
    "# house2.head()\n"
   ]
  },
  {
   "cell_type": "code",
   "execution_count": 144,
   "metadata": {},
   "outputs": [
    {
     "name": "stderr",
     "output_type": "stream",
     "text": [
      "/tmp/ipykernel_8673/586467536.py:5: FutureWarning: The default value of regex will change from True to False in a future version.\n",
      "  estate['удаленность'] = estate['удаленность'].str.replace(r'\\)$', '')\n"
     ]
    }
   ],
   "source": [
    "# здесь мы еше убрали питер\n",
    "#metro=estate[['Unnamed: 0','Метро']]\n",
    "# metro=estate[estate[\"Адрес\"]. str.contains (\"Москва\")][['Unnamed: 0','Метро']]\n",
    "estate[['название станции', 'удаленность']] = estate['Метро'].str.split('(', expand=True)\n",
    "estate['удаленность'] = estate['удаленность'].str.replace(r'\\)$', '')\n",
    "estate[['минуты', 'тип_транспорта']] = estate['удаленность'].str.split(\" мин \", expand=True)\n",
    "\n",
    "\n",
    "\n",
    "# estate[['этажность','тип дома']]=estate['Дом'].str.split(',', expand=True)\n",
    "# estate['этаж']=estate['этажность'].str.split('/').str[0]\n",
    "# estate['этажность']=estate['этажность'].str.split('/').str[-1]\n",
    "# stations=metro['название станции'].unique()\n",
    "# print(stations)\n"
   ]
  },
  {
   "attachments": {},
   "cell_type": "markdown",
   "metadata": {},
   "source": [
    "Исследуя столбец с ценами, мы увидели, что потребуется дополнительное деление на разные колонки или как минимум оставить стоимость за месяц."
   ]
  },
  {
   "cell_type": "code",
   "execution_count": 145,
   "metadata": {},
   "outputs": [],
   "source": [
    "# a=(str(estate.loc[0,['Цена']]))\n",
    "# print(a)\n",
    "#Тут видно, что нужно делить на разные колонки или как минимум оставить стоимость за месяц"
   ]
  },
  {
   "cell_type": "code",
   "execution_count": 146,
   "metadata": {},
   "outputs": [
    {
     "name": "stderr",
     "output_type": "stream",
     "text": [
      "/tmp/ipykernel_8673/1540345305.py:2: SettingWithCopyWarning: \n",
      "A value is trying to be set on a copy of a slice from a DataFrame.\n",
      "Try using .loc[row_indexer,col_indexer] = value instead\n",
      "\n",
      "See the caveats in the documentation: https://pandas.pydata.org/pandas-docs/stable/user_guide/indexing.html#returning-a-view-versus-a-copy\n",
      "  price['Цена за месяц']=price['Цена'].str.split('руб.', expand=True)[0]\n"
     ]
    }
   ],
   "source": [
    "price=estate[['Unnamed: 0','Цена']] \n",
    "price['Цена за месяц']=price['Цена'].str.split('руб.', expand=True)[0] \n",
    "#new_df = new_df.astype({np.float})\n",
    "\n",
    "\n",
    "# sns.histplot(x='Цена за месяц', data=new_df)\n",
    "\n",
    "#Улюм, ты ничего не видел! Комментарий для Саши и Вероники: тупо выделила оплату за месяц, нашла еще как отдельно в строке забрать цифры, \n",
    "# но не понимаю, чем пригодится нам залог и срок сдачи в аренду (там тем более не цифры)\n",
    "# Может пригодится: https://younglinux.info/python/task/filter-integer\n"
   ]
  },
  {
   "cell_type": "code",
   "execution_count": 147,
   "metadata": {},
   "outputs": [],
   "source": [
    "# price.describe(include='all')\n",
    "#походу строки остались, не перевели еще в числа"
   ]
  },
  {
   "cell_type": "code",
   "execution_count": 148,
   "metadata": {},
   "outputs": [],
   "source": [
    "# #Исследую столбец с ремонтом\n",
    "# estate['Ремонт'].nunique()"
   ]
  },
  {
   "attachments": {},
   "cell_type": "markdown",
   "metadata": {},
   "source": [
    "Далее мы исследовали столбец с ремонтом. Типов ремонта всего 4, так что для наглядности построим гистограмму"
   ]
  },
  {
   "cell_type": "code",
   "execution_count": 149,
   "metadata": {},
   "outputs": [],
   "source": [
    "#Исследую столбец с площадью комнат\n",
    "# estate['Площадь комнат, м2'].nunique()"
   ]
  },
  {
   "attachments": {},
   "cell_type": "markdown",
   "metadata": {},
   "source": [
    "Обратим внимание на столбец с площадью комнат. Видно, что сумма площадей комнат является суммой, которая указана после общей площади в столбце 'Площадь, м2'"
   ]
  },
  {
   "cell_type": "code",
   "execution_count": 150,
   "metadata": {},
   "outputs": [
    {
     "name": "stdout",
     "output_type": "stream",
     "text": [
      "   Площадь комнат, м2       Площадь, м2\n",
      "0                 NaN        200.0/20.0\n",
      "1         25 25 20 25   198.0/95.0/18.0\n",
      "2                 NaN   200.0/116.0/4.0\n",
      "3         14-42-20-19   170.0/95.0/17.0\n",
      "4               20 18     58.0/38.0/5.0\n",
      "5                 NaN              92.0\n",
      "6      43-25-25-25-22  213.0/140.0/20.0\n",
      "7            26 22 15     98.0/63.0/9.0\n",
      "8            45 25 25   120.0/95.0/10.0\n",
      "9         16 14 16 20    90.0/66.0/10.0\n",
      "10        16-40-20-18   170.0/94.0/10.0\n"
     ]
    }
   ],
   "source": [
    "#  посмотрим какая информация в этом столбце:\n",
    "b=(str(estate.loc[0:10,['Площадь комнат, м2', 'Площадь, м2']]))\n",
    "print(b)\n",
    "#Опачки, а сумма площадей комнат - это второе число сразу после слеша в колонке площадь, только полюбуйтесь:"
   ]
  },
  {
   "cell_type": "code",
   "execution_count": 151,
   "metadata": {},
   "outputs": [],
   "source": [
    "#Исследую столбец с балконами\n",
    "# estate['Балкон'].nunique()"
   ]
  },
  {
   "attachments": {},
   "cell_type": "markdown",
   "metadata": {},
   "source": [
    "Проанализируем наличие и количество балконов."
   ]
  },
  {
   "cell_type": "code",
   "execution_count": 152,
   "metadata": {},
   "outputs": [],
   "source": [
    "#Исследую столбец с окнами\n",
    "# estate['Окна'].nunique()"
   ]
  },
  {
   "attachments": {},
   "cell_type": "markdown",
   "metadata": {},
   "source": [
    "Исследуем столбец с окнами: в основном окна выходят во двор."
   ]
  },
  {
   "attachments": {},
   "cell_type": "markdown",
   "metadata": {},
   "source": [
    "Перейдем к санузлам"
   ]
  },
  {
   "attachments": {},
   "cell_type": "markdown",
   "metadata": {},
   "source": [
    "Теперь к колонке, в которой указана возможность аренды с детьми и/или животными:"
   ]
  },
  {
   "attachments": {},
   "cell_type": "markdown",
   "metadata": {},
   "source": [
    "Поглядим на информацию по лифтам:"
   ]
  },
  {
   "cell_type": "code",
   "execution_count": 153,
   "metadata": {},
   "outputs": [],
   "source": [
    "# estate['Лифт'].isna().sum()"
   ]
  },
  {
   "attachments": {},
   "cell_type": "markdown",
   "metadata": {},
   "source": [
    "Наличие мусоропровод также интересно проанализировать:"
   ]
  },
  {
   "cell_type": "code",
   "execution_count": 154,
   "metadata": {},
   "outputs": [],
   "source": [
    "# estate['Мусоропровод'].isna().sum()"
   ]
  },
  {
   "cell_type": "code",
   "execution_count": 155,
   "metadata": {},
   "outputs": [],
   "source": [
    "additionally = estate['Дополнительно'].str.split(',', expand=True)\n",
    "df=additionally.head(5)\n"
   ]
  },
  {
   "attachments": {},
   "cell_type": "markdown",
   "metadata": {},
   "source": [
    "Остался столбец \"дополнительно\". В каждой кварире  разное количество техники, мебели и т.д.Этот столбец в дальнейшем можем заменить на сумму баллов."
   ]
  },
  {
   "cell_type": "code",
   "execution_count": 156,
   "metadata": {},
   "outputs": [
    {
     "name": "stdout",
     "output_type": "stream",
     "text": [
      "[NbConvertApp] Converting notebook /home/nika/Rent_real_Estate_phase0/EDA.ipynb to html\n",
      "[NbConvertApp] Writing 718671 bytes to /home/nika/Rent_real_Estate_phase0/EDA.html\n"
     ]
    }
   ],
   "source": [
    "# %%capture\n",
    "# !jupyter nbconvert --to pdf --TemplateExporter.exclude_input=True ~/Rent_real_Estate_phase0/EDA.ipynb\n",
    "\n",
    "# %%capture\n",
    "# !jupyter nbconvert --to pdf --template=classic ~/Rent_real_Estate_phase0/EDA.ipynb\n",
    "# !open ~/Desktop/VALIOTTI/Reports/Sample\\ LaTeX\\ EDA.pdf\n",
    "!jupyter nbconvert --to html --template=classic --TemplateExporter.exclude_input=True ~/Rent_real_Estate_phase0/EDA.ipynb"
   ]
  },
  {
   "cell_type": "code",
   "execution_count": 157,
   "metadata": {},
   "outputs": [
    {
     "data": {
      "text/plain": [
       "Index(['Unnamed: 0', 'ID  объявления', 'Количество комнат', 'Метро', 'Адрес',\n",
       "       'Площадь, м2', 'Дом', 'Парковка', 'Цена', 'Описание', 'Ремонт',\n",
       "       'Площадь комнат, м2', 'Балкон', 'Окна', 'Санузел',\n",
       "       'Можно с детьми/животными', 'Дополнительно', 'Название ЖК',\n",
       "       'Высота потолков, м', 'Лифт', 'Мусоропровод',\n",
       "       'Количество комнат (число)', 'Описание комнат', 'этажность', 'тип дома',\n",
       "       'этаж', 'название станции', 'удаленность', 'минуты', 'тип_транспорта'],\n",
       "      dtype='object')"
      ]
     },
     "execution_count": 157,
     "metadata": {},
     "output_type": "execute_result"
    }
   ],
   "source": [
    "estate.columns"
   ]
  },
  {
   "cell_type": "code",
   "execution_count": 159,
   "metadata": {},
   "outputs": [
    {
     "data": {
      "text/html": [
       "<div>\n",
       "<style scoped>\n",
       "    .dataframe tbody tr th:only-of-type {\n",
       "        vertical-align: middle;\n",
       "    }\n",
       "\n",
       "    .dataframe tbody tr th {\n",
       "        vertical-align: top;\n",
       "    }\n",
       "\n",
       "    .dataframe thead th {\n",
       "        text-align: right;\n",
       "    }\n",
       "</style>\n",
       "<table border=\"1\" class=\"dataframe\">\n",
       "  <thead>\n",
       "    <tr style=\"text-align: right;\">\n",
       "      <th></th>\n",
       "      <th>ID  объявления</th>\n",
       "      <th>Площадь, м2</th>\n",
       "      <th>Парковка</th>\n",
       "      <th>Цена</th>\n",
       "      <th>Ремонт</th>\n",
       "      <th>Балкон</th>\n",
       "      <th>Окна</th>\n",
       "      <th>Санузел</th>\n",
       "      <th>Можно с детьми/животными</th>\n",
       "      <th>Дополнительно</th>\n",
       "      <th>Лифт</th>\n",
       "      <th>Мусоропровод</th>\n",
       "      <th>Количество комнат (число)</th>\n",
       "      <th>Описание комнат</th>\n",
       "      <th>этажность</th>\n",
       "      <th>тип дома</th>\n",
       "      <th>этаж</th>\n",
       "      <th>название станции</th>\n",
       "      <th>минуты</th>\n",
       "      <th>тип_транспорта</th>\n",
       "    </tr>\n",
       "  </thead>\n",
       "  <tbody>\n",
       "    <tr>\n",
       "      <th>0</th>\n",
       "      <td>271271157</td>\n",
       "      <td>200.0/20.0</td>\n",
       "      <td>подземная</td>\n",
       "      <td>500000.0 руб./ За месяц, Залог - 500000 руб., ...</td>\n",
       "      <td>Дизайнерский</td>\n",
       "      <td>NaN</td>\n",
       "      <td>NaN</td>\n",
       "      <td>NaN</td>\n",
       "      <td>Можно с детьми, Можно с животными</td>\n",
       "      <td>Мебель в комнатах, Мебель на кухне, Ванна, Душ...</td>\n",
       "      <td>Пасс (4), Груз (1)</td>\n",
       "      <td>Да</td>\n",
       "      <td>4</td>\n",
       "      <td>None</td>\n",
       "      <td>16</td>\n",
       "      <td>Монолитный</td>\n",
       "      <td>5</td>\n",
       "      <td>м. Смоленская</td>\n",
       "      <td>9</td>\n",
       "      <td>пешком</td>\n",
       "    </tr>\n",
       "    <tr>\n",
       "      <th>1</th>\n",
       "      <td>271634126</td>\n",
       "      <td>198.0/95.0/18.0</td>\n",
       "      <td>подземная</td>\n",
       "      <td>500000.0 руб./ За месяц, Залог - 500000 руб., ...</td>\n",
       "      <td>Дизайнерский</td>\n",
       "      <td>NaN</td>\n",
       "      <td>На улицу и двор</td>\n",
       "      <td>Совмещенный (2), Раздельный (1)</td>\n",
       "      <td>Можно с детьми</td>\n",
       "      <td>Мебель в комнатах, Мебель на кухне, Ванна, Душ...</td>\n",
       "      <td>Пасс (1), Груз (1)</td>\n",
       "      <td>Нет</td>\n",
       "      <td>4</td>\n",
       "      <td>None</td>\n",
       "      <td>16</td>\n",
       "      <td>Монолитно-кирпичный</td>\n",
       "      <td>5</td>\n",
       "      <td>м. Смоленская</td>\n",
       "      <td>8</td>\n",
       "      <td>пешком</td>\n",
       "    </tr>\n",
       "    <tr>\n",
       "      <th>2</th>\n",
       "      <td>271173086</td>\n",
       "      <td>200.0/116.0/4.0</td>\n",
       "      <td>подземная</td>\n",
       "      <td>500000.0 руб./ За месяц, Залог - 500000 руб., ...</td>\n",
       "      <td>Евроремонт</td>\n",
       "      <td>NaN</td>\n",
       "      <td>На улицу и двор</td>\n",
       "      <td>Совмещенный (3)</td>\n",
       "      <td>Можно с детьми</td>\n",
       "      <td>Мебель в комнатах, Мебель на кухне, Ванна, Душ...</td>\n",
       "      <td>Пасс (1)</td>\n",
       "      <td>NaN</td>\n",
       "      <td>4</td>\n",
       "      <td>Оба варианта</td>\n",
       "      <td>16</td>\n",
       "      <td>None</td>\n",
       "      <td>5</td>\n",
       "      <td>м. Смоленская</td>\n",
       "      <td>7</td>\n",
       "      <td>пешком</td>\n",
       "    </tr>\n",
       "    <tr>\n",
       "      <th>3</th>\n",
       "      <td>272197456</td>\n",
       "      <td>170.0/95.0/17.0</td>\n",
       "      <td>подземная</td>\n",
       "      <td>400000.0 руб./ За месяц, Залог - 400000 руб., ...</td>\n",
       "      <td>Евроремонт</td>\n",
       "      <td>NaN</td>\n",
       "      <td>На улицу и двор</td>\n",
       "      <td>Совмещенный (3)</td>\n",
       "      <td>Можно с животными</td>\n",
       "      <td>Мебель в комнатах, Мебель на кухне, Ванна, Душ...</td>\n",
       "      <td>Пасс (1)</td>\n",
       "      <td>NaN</td>\n",
       "      <td>4</td>\n",
       "      <td>Оба варианта</td>\n",
       "      <td>6</td>\n",
       "      <td>None</td>\n",
       "      <td>5</td>\n",
       "      <td>м. Смоленская</td>\n",
       "      <td>3</td>\n",
       "      <td>пешком</td>\n",
       "    </tr>\n",
       "    <tr>\n",
       "      <th>4</th>\n",
       "      <td>273614615</td>\n",
       "      <td>58.0/38.0/5.0</td>\n",
       "      <td>NaN</td>\n",
       "      <td>225000.0 руб./ За месяц, Залог - 225000 руб., ...</td>\n",
       "      <td>Евроремонт</td>\n",
       "      <td>NaN</td>\n",
       "      <td>На улицу и двор</td>\n",
       "      <td>Совмещенный (2)</td>\n",
       "      <td>NaN</td>\n",
       "      <td>Мебель в комнатах, Мебель на кухне, Ванна, Душ...</td>\n",
       "      <td>Пасс (1), Груз (1)</td>\n",
       "      <td>Да</td>\n",
       "      <td>2</td>\n",
       "      <td>None</td>\n",
       "      <td>26</td>\n",
       "      <td>Панельный</td>\n",
       "      <td>12</td>\n",
       "      <td>м. Арбатская</td>\n",
       "      <td>7</td>\n",
       "      <td>пешком</td>\n",
       "    </tr>\n",
       "  </tbody>\n",
       "</table>\n",
       "</div>"
      ],
      "text/plain": [
       "   ID  объявления      Площадь, м2   Парковка  \\\n",
       "0       271271157       200.0/20.0  подземная   \n",
       "1       271634126  198.0/95.0/18.0  подземная   \n",
       "2       271173086  200.0/116.0/4.0  подземная   \n",
       "3       272197456  170.0/95.0/17.0  подземная   \n",
       "4       273614615    58.0/38.0/5.0        NaN   \n",
       "\n",
       "                                                Цена        Ремонт Балкон  \\\n",
       "0  500000.0 руб./ За месяц, Залог - 500000 руб., ...  Дизайнерский    NaN   \n",
       "1  500000.0 руб./ За месяц, Залог - 500000 руб., ...  Дизайнерский    NaN   \n",
       "2  500000.0 руб./ За месяц, Залог - 500000 руб., ...    Евроремонт    NaN   \n",
       "3  400000.0 руб./ За месяц, Залог - 400000 руб., ...    Евроремонт    NaN   \n",
       "4  225000.0 руб./ За месяц, Залог - 225000 руб., ...    Евроремонт    NaN   \n",
       "\n",
       "              Окна                          Санузел  \\\n",
       "0              NaN                              NaN   \n",
       "1  На улицу и двор  Совмещенный (2), Раздельный (1)   \n",
       "2  На улицу и двор                  Совмещенный (3)   \n",
       "3  На улицу и двор                  Совмещенный (3)   \n",
       "4  На улицу и двор                  Совмещенный (2)   \n",
       "\n",
       "            Можно с детьми/животными  \\\n",
       "0  Можно с детьми, Можно с животными   \n",
       "1                     Можно с детьми   \n",
       "2                     Можно с детьми   \n",
       "3                  Можно с животными   \n",
       "4                                NaN   \n",
       "\n",
       "                                       Дополнительно                Лифт  \\\n",
       "0  Мебель в комнатах, Мебель на кухне, Ванна, Душ...  Пасс (4), Груз (1)   \n",
       "1  Мебель в комнатах, Мебель на кухне, Ванна, Душ...  Пасс (1), Груз (1)   \n",
       "2  Мебель в комнатах, Мебель на кухне, Ванна, Душ...            Пасс (1)   \n",
       "3  Мебель в комнатах, Мебель на кухне, Ванна, Душ...            Пасс (1)   \n",
       "4  Мебель в комнатах, Мебель на кухне, Ванна, Душ...  Пасс (1), Груз (1)   \n",
       "\n",
       "  Мусоропровод Количество комнат (число) Описание комнат этажность  \\\n",
       "0           Да                         4            None        16   \n",
       "1          Нет                         4            None        16   \n",
       "2          NaN                         4    Оба варианта        16   \n",
       "3          NaN                         4    Оба варианта         6   \n",
       "4           Да                         2            None        26   \n",
       "\n",
       "               тип дома этаж название станции минуты тип_транспорта  \n",
       "0            Монолитный    5   м. Смоленская       9         пешком  \n",
       "1   Монолитно-кирпичный    5   м. Смоленская       8         пешком  \n",
       "2                  None    5   м. Смоленская       7         пешком  \n",
       "3                  None    5   м. Смоленская       3         пешком  \n",
       "4             Панельный   12    м. Арбатская       7         пешком  "
      ]
     },
     "execution_count": 159,
     "metadata": {},
     "output_type": "execute_result"
    }
   ],
   "source": [
    "data=estate[['ID  объявления',\n",
    "       'Площадь, м2', 'Парковка', 'Цена', 'Ремонт',\n",
    "       'Балкон', 'Окна', 'Санузел',\n",
    "       'Можно с детьми/животными', 'Дополнительно',\n",
    "       'Лифт', 'Мусоропровод',\n",
    "       'Количество комнат (число)', 'Описание комнат', 'этажность', 'тип дома',\n",
    "       'этаж', 'название станции', 'минуты', 'тип_транспорта']]\n",
    "data.head()"
   ]
  },
  {
   "cell_type": "code",
   "execution_count": 160,
   "metadata": {},
   "outputs": [
    {
     "data": {
      "text/plain": [
       "ID  объявления                0.000000\n",
       "Площадь, м2                   0.000000\n",
       "Парковка                     56.614480\n",
       "Цена                          0.000000\n",
       "Ремонт                       12.479100\n",
       "Балкон                       33.591731\n",
       "Окна                         26.093125\n",
       "Санузел                      10.340984\n",
       "Можно с детьми/животными     24.902467\n",
       "Дополнительно                 1.378122\n",
       "Лифт                         21.239297\n",
       "Мусоропровод                 40.568475\n",
       "Количество комнат (число)     2.710645\n",
       "Описание комнат              59.634190\n",
       "этажность                     0.000000\n",
       "тип дома                     15.052946\n",
       "этаж                          0.000000\n",
       "название станции              1.753053\n",
       "минуты                        1.753053\n",
       "тип_транспорта                1.753053\n",
       "dtype: float64"
      ]
     },
     "execution_count": 160,
     "metadata": {},
     "output_type": "execute_result"
    }
   ],
   "source": [
    "data.isnull().mean() * 100"
   ]
  },
  {
   "attachments": {},
   "cell_type": "markdown",
   "metadata": {},
   "source": [
    "На текущем этапе заменяем все пропуски данных на 'неизвестно' и проверяем:"
   ]
  },
  {
   "cell_type": "code",
   "execution_count": 161,
   "metadata": {},
   "outputs": [
    {
     "data": {
      "text/plain": [
       "ID  объявления               0.0\n",
       "Площадь, м2                  0.0\n",
       "Парковка                     0.0\n",
       "Цена                         0.0\n",
       "Ремонт                       0.0\n",
       "Балкон                       0.0\n",
       "Окна                         0.0\n",
       "Санузел                      0.0\n",
       "Можно с детьми/животными     0.0\n",
       "Дополнительно                0.0\n",
       "Лифт                         0.0\n",
       "Мусоропровод                 0.0\n",
       "Количество комнат (число)    0.0\n",
       "Описание комнат              0.0\n",
       "этажность                    0.0\n",
       "тип дома                     0.0\n",
       "этаж                         0.0\n",
       "название станции             0.0\n",
       "минуты                       0.0\n",
       "тип_транспорта               0.0\n",
       "dtype: float64"
      ]
     },
     "execution_count": 161,
     "metadata": {},
     "output_type": "execute_result"
    }
   ],
   "source": [
    "data = data.fillna('неизвестно')\n",
    "data.isnull().mean() * 100"
   ]
  },
  {
   "attachments": {},
   "cell_type": "markdown",
   "metadata": {},
   "source": [
    "Переводим все столбцы в латиницу:"
   ]
  },
  {
   "cell_type": "code",
   "execution_count": 163,
   "metadata": {},
   "outputs": [
    {
     "data": {
      "text/plain": [
       "Index(['ID', 'Area_apartment', 'Parking', 'Price', 'Repair', 'Balcony',\n",
       "       'Windows', 'Bathroom', 'Possible_children_animals', 'Additionally',\n",
       "       'Elevator', 'Garbage', 'Number_of_rooms', 'Description_rooms', 'Floors',\n",
       "       'House_type', 'Floor', 'Station_name', 'Minutes', 'Transport_type'],\n",
       "      dtype='object')"
      ]
     },
     "execution_count": 163,
     "metadata": {},
     "output_type": "execute_result"
    }
   ],
   "source": [
    "\n",
    "rename_dict = {'ID  объявления':'ID', 'Количество комнат (число)':'Number_of_rooms', 'Тип':'Type', 'Метро':'Metro',\n",
    " 'Адрес':'Address', 'Площадь, м2':'Area_apartment', 'Дом':'House', 'Парковка':'Parking', 'Цена':'Price', 'Телефоны':'Phones', 'Описание':'Description_room',\n",
    " 'Ремонт':'Repair', 'Площадь комнат, м2':'Room_area', 'Балкон':'Balcony', 'Окна':'Windows', 'Санузел':'Bathroom', 'Можно с детьми/животными':'Possible_children_animals',\n",
    " 'Дополнительно':'Additionally', 'Название ЖК':'Name_residential_complex', 'Серия дома': 'House_series', 'Высота потолков, м':'Ceiling_height', 'Лифт':'Elevator',\n",
    " 'Мусоропровод':'Garbage', 'Ссылка на объявление':'Link','Описание комнат': 'Description_rooms',\n",
    "    'этажность': 'Floors',\n",
    "    'тип дома': 'House_type',\n",
    "    'этаж': 'Floor',\n",
    "    'название станции': 'Station_name',\n",
    "    'минуты': 'Minutes',\n",
    "    'тип_транспорта': 'Transport_type'}\n",
    "data.rename(columns=rename_dict, inplace=True)\n",
    "data.columns\n"
   ]
  },
  {
   "attachments": {},
   "cell_type": "markdown",
   "metadata": {},
   "source": [
    "сохраняем все в файл csv"
   ]
  },
  {
   "cell_type": "code",
   "execution_count": 164,
   "metadata": {},
   "outputs": [],
   "source": [
    "data.to_csv('data.csv', index=False)"
   ]
  }
 ],
 "metadata": {
  "kernelspec": {
   "display_name": "production",
   "language": "python",
   "name": "python3"
  },
  "language_info": {
   "codemirror_mode": {
    "name": "ipython",
    "version": 3
   },
   "file_extension": ".py",
   "mimetype": "text/x-python",
   "name": "python",
   "nbconvert_exporter": "python",
   "pygments_lexer": "ipython3",
   "version": "3.11.2"
  },
  "orig_nbformat": 4
 },
 "nbformat": 4,
 "nbformat_minor": 2
}
